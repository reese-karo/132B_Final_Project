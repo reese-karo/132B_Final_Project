{
 "cells": [
  {
   "cell_type": "code",
   "execution_count": 1,
   "id": "c9053a6d",
   "metadata": {},
   "outputs": [],
   "source": [
    "import numpy as np\n",
    "import matplotlib.pyplot as plt"
   ]
  },
  {
   "cell_type": "markdown",
   "id": "1aaa907b",
   "metadata": {},
   "source": [
    "## Game 1: Heads or Tails Game\n",
    "\n",
    "In the first game, we'll have two players are next to each other and will choose (at the same time) whether to move forward or backwards. If the players move the same direction then player 1 will \"win\" (get a positive payout), if the players move in different directions then player 2 will win. The game can be represented with the following table:\n",
    "\n",
    "$\\begin{bmatrix}\n",
    "1/2 & F    & B    \\\\\n",
    "F   & 5,-5 & -3,3 \\\\\n",
    "B   & -2,2 & 1,-1\n",
    "\\end{bmatrix}$\n",
    "\n",
    "Note the values for the table are arbitrary but designed so the game isn't simple (the optimal mixed strategy isn't to play both with a probability of 0.5). To use linear programming to solve this problem, we assume player 1 is using a mixed strategy where they move forward with probability $x_1$ and backward with probability $x_2$. Player 1's goal is to find the mixed strategy which maximizes their expected outcome. This problem can be represented in the following form:\n",
    "\n",
    "$\\begin{align} \n",
    "    \\text{maximize } &v \\\\\n",
    "    \\text{subject to: } &5x_1 - 2x_2 \\geq v \\\\\n",
    "    &-3x_1 + x_2 \\geq v \\\\\n",
    "    &x_1 + x_2 = 1 \\\\\n",
    "    &x_1, x_2, v \\geq 0\n",
    "\\end{align}$\n",
    "\n",
    "v denotes the value of the game which is the expected utility of player 1 given they play their optimal strategy. Using slack variables we can manipulate the problem into standard linear programming form: \n",
    "\n",
    "$\\begin{align}\n",
    "    \\text{minimize } &-v \\\\\n",
    "    \\text{subject to: } &5x_1 - 2x_2 - v - x_3 = 0 \\\\\n",
    "    &-3x_1 + x_2 - v - x_4 = 0 \\\\ \n",
    "    &x_1 + x_2 = 1 \\\\\n",
    "    &x_1, x_2, x_3, x_4, v \\geq 0\n",
    "\\end{align}$"
   ]
  },
  {
   "cell_type": "code",
   "execution_count": null,
   "id": "64f7ca66",
   "metadata": {},
   "outputs": [],
   "source": [
    "# create arrays for problem\n",
    "c = np.array([0.0, 0.0, 0.0, 0.0, -1.0])\n",
    "A = np.array([[5.0, -2.0, -1.0, 0.0, -1.0],\n",
    "              [-3.0, 1.0, 0.0, -1.0, -1.0],\n",
    "              [1.0, 1.0, 0.0, 0.0, 0.0]])\n",
    "b = np.array([0.0, 0.0, 1.0])\n",
    "\n"
   ]
  }
 ],
 "metadata": {
  "kernelspec": {
   "display_name": "Python 3",
   "language": "python",
   "name": "python3"
  },
  "language_info": {
   "codemirror_mode": {
    "name": "ipython",
    "version": 3
   },
   "file_extension": ".py",
   "mimetype": "text/x-python",
   "name": "python",
   "nbconvert_exporter": "python",
   "pygments_lexer": "ipython3",
   "version": "3.12.7"
  }
 },
 "nbformat": 4,
 "nbformat_minor": 5
}
