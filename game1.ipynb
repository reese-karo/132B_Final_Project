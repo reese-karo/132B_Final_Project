{
 "cells": [
  {
   "cell_type": "code",
   "execution_count": 1,
   "id": "c9053a6d",
   "metadata": {},
   "outputs": [],
   "source": [
    "import numpy as np\n",
    "import matplotlib.pyplot as plt"
   ]
  },
  {
   "cell_type": "markdown",
   "id": "1aaa907b",
   "metadata": {},
   "source": [
    "## Game 1: Heads or Tails Game\n",
    "\n",
    "In the first game, we'll have two players are next to each other and will choose (at the same time) whether to move forward or backwards. If the players move the same direction then player 1 will \"win\" (get a positive payout), if the players move in different directions then player 2 will win. The game can be represented with the following table:\n",
    "\n",
    "$\\begin{bmatrix}\n",
    "1/2 & F    & B    \\\\\n",
    "F   & 5,-5 & -3,3 \\\\\n",
    "B   & -2,2 & 1,-1\n",
    "\\end{bmatrix}$\n",
    "\n",
    "Note the values for the table are arbitrary but designed so the game isn't simple (the optimal mixed strategy isn't to play both with a probability of 0.5). To use linear programming to solve this problem, we assume player 1 is using a mixed strategy where they move forward with probability $x_1$ and backward with probability $x_2$. Player 1's goal is to find the mixed strategy which maximizes their expected outcome. This problem can be represented in the following form:\n",
    "\n",
    "$\\begin{align} \n",
    "    \\text{maximize } &v \\\\\n",
    "    \\text{subject to: } &5x_1 - 2x_2 \\geq v \\\\\n",
    "    &-3x_1 + x_2 \\geq v \\\\\n",
    "    &x_1 + x_2 = 1 \\\\\n",
    "    &x_1, x_2, v \\geq 0\n",
    "\\end{align}$\n",
    "\n",
    "v denotes the value of the game which is the expected utility of player 1 given they play their optimal strategy. Using slack variables we can manipulate the problem into standard linear programming form: \n",
    "\n",
    "$\\begin{align}\n",
    "    \\text{minimize } &-v \\\\\n",
    "    \\text{subject to: } &5x_1 - 2x_2 - v - x_3 = 0 \\\\\n",
    "    &-3x_1 + x_2 - v - x_4 = 0 \\\\ \n",
    "    &x_1 + x_2 = 1 \\\\\n",
    "    &x_1, x_2, x_3, x_4, v \\geq 0\n",
    "\\end{align}$"
   ]
  },
  {
   "cell_type": "code",
   "execution_count": null,
   "id": "64f7ca66",
   "metadata": {},
   "outputs": [],
   "source": [
    "# create arrays for problem\n",
    "c = np.array([0.0, 0.0, 0.0, 0.0, -1.0])\n",
    "A = np.array([[5.0, -2.0, -1.0, 0.0, -1.0],\n",
    "              [-3.0, 1.0, 0.0, -1.0, -1.0],\n",
    "              [1.0, 1.0, 0.0, 0.0, 0.0]])\n",
    "b = np.array([0.0, 0.0, 1.0])"
   ]
  },
  {
   "cell_type": "markdown",
   "id": "77b7ffd7",
   "metadata": {},
   "source": [
    "## Game 2: Rock, Paper, Scissors\n",
    "\n",
    "The second game is simply rock paper scissors to prove as a sanity check while we scale the games to have more than two decisions per player. The game can be represented with the following table:\n",
    "\n",
    "$\\begin{bmatrix}\n",
    "    1/2 & R & P & S \\\\\n",
    "    R & 0,0 & -1,1 & 1,-1 \\\\ \n",
    "    P & 1,-1 & 0,0 & -1,1 \\\\\n",
    "    S & -1,1 & 1,-1 & 0,0\n",
    "\\end{bmatrix}$\n",
    "\n",
    "Assuming the probabilities player 1 plays rock paper and scissors are $x_1, x_2, x_3$ respectively, solving the problem should result each probability being 1/3. Introducing slack variables we can format the problem as the following linear programming problem: \n",
    "\n",
    "$\\begin{align}\n",
    "    \\text{minimize } &-v \\\\\n",
    "    \\text{subject to: } &x_2 - x_3 - v - x_4 = 0 \\\\\n",
    "    &-x_1 + x_3 - v - x_5 = 0 \\\\\n",
    "    &x_1 - x_2 - v - x_6 = 0 \\\\\n",
    "    &x_1 + x_2 + x_3 = 1 \\\\\n",
    "    &x_1, \\dots, x_6, v \\geq 0\n",
    "\\end{align}$"
   ]
  },
  {
   "cell_type": "code",
   "execution_count": null,
   "id": "fb4ac83a",
   "metadata": {},
   "outputs": [],
   "source": [
    "# create arrays for the problem\n",
    "c = np.array([0.0, 0.0, 0.0, 0.0, 0.0, 0.0, -1.0])\n",
    "A = np.array([[0.0, 1.0, -1.0, -1.0, 0.0, 0.0 , -1.0],\n",
    "              [-1.0, 0.0, 1.0, 0.0, -1.0, 0.0, -1.0],\n",
    "              [1.0, -1.0, 0.0, 0.0, 0.0, -1.0, -1.0],\n",
    "              [1.0, 1.0, 1.0, 0.0, 0.0, 0.0, 0.0]])\n",
    "b = np.array([0.0, 0.0, 0.0, 1.0])"
   ]
  },
  {
   "cell_type": "markdown",
   "id": "80478e15",
   "metadata": {},
   "source": [
    "## Game 3: Another 3x3 Game (don't know if necessary)\n",
    "\n",
    "The third game is another example of a two-player zero-sum game where both players have three options, however this game has more nuance and will result in a mixed strategy not involving uniform probabilities. We arbitrarily chose values for the following matrix representation:\n",
    "\n",
    "$\\begin{bmatrix}\n",
    "    1/2 & A & B & C \\\\\n",
    "    A & 3,-3 & -1,1 & 2,-2 \\\\\n",
    "    B & 2,-2 & 0,0 & -2,2 \\\\\n",
    "    C & -2,2 & 1,-1 & 1,-1\n",
    "\\end{bmatrix}$\n",
    "\n",
    "Adding slack variables leads to the standard linear programming form:\n",
    "\n",
    "$\\begin{align}\n",
    "    \\text{minimize } &-v \\\\\n",
    "    \\text{subject to: } &3x_1 + 2x_2 - 2x_3 - x_4 - v = 0 \\\\\n",
    "    &-x_1 + x_3 - x_5 - v = 0 \\\\\n",
    "    &2x_1 - 2x_2 + x_3 - x_6 - v = 0 \\\\\n",
    "    &x_1 + x_2 + x_3 = 1 \\\\\n",
    "    &x_1, \\dots, x_6, v \\geq 0\n",
    "\\end{align}$\n"
   ]
  },
  {
   "cell_type": "code",
   "execution_count": null,
   "id": "143ec81b",
   "metadata": {},
   "outputs": [],
   "source": [
    "# create arrays for the problem \n",
    "c = np.array([0.0, 0.0, 0.0, 0.0, 0.0, 0.0, -1.0])\n",
    "A = np.array([[3.0, 2.0, -2.0, -1.0, 0.0, 0.0, -1.0],\n",
    "              [-1.0, 0.0, 1.0, 0.0, -1.0, 0.0, -1.0],\n",
    "              [2.0, -2.0, 1.0, 0.0, 0.0, -1.0, -1.0],\n",
    "              [1.0, 1.0, 1.0, 0.0, 0.0, 0.0, 0.0]])\n",
    "b = np.array([0.0, 0.0, 0.0, 1.0])"
   ]
  },
  {
   "cell_type": "markdown",
   "id": "e7d9409b",
   "metadata": {},
   "source": [
    "From Chat: Value of the game should be 0.276, optimal mixed strategy: (.207, .310, .483)"
   ]
  },
  {
   "cell_type": "markdown",
   "id": "f62ef69f",
   "metadata": {},
   "source": [
    "## Game 4: Scaling Game 3 \n",
    "\n",
    "Since we've established we can use linear programming to find mixed strategies for games with more than two actions for both players, we can see how scaling the payoffs of particular outcomes affects the optimal mixed strategy and value of the game. Note scaling the entire game by positive values doesn't affect the optimal mixed strategy but rather just increases the value of the game. Thus we can examine the rate at which probabilities change subject to an array of transformations. We'll adjust the values in the first row of the game matrix from Game 3 by adding various positive values to player A's outcome while preserving the zero-sum quality of the game. The new matrix representation with $\\varepsilon > 0$ is:\n",
    "\n",
    "$\\begin{bmatrix}\n",
    "    1/2 & A & B & C \\\\\n",
    "    A & 3 + \\varepsilon,-3 - \\varepsilon & -1 + \\varepsilon,1 - \\varepsilon & 2 + \\varepsilon, -2 - \\varepsilon \\\\\n",
    "    B & 2,-2 & 0,0 & -2,2 \\\\\n",
    "    C & -2,2 & 1,-1 & 1,-1\n",
    "\\end{bmatrix}$\n",
    "\n",
    "The new standard linear programming form for the problem becomes:\n",
    "\n",
    "$\\begin{align}\n",
    "    \\text{minimize } &-v \\\\\n",
    "    \\text{subject to: } &(3 + \\varepsilon)x_1 + 2x_2 - 2x_3 - x_4 - v = 0 \\\\\n",
    "    &(-1 + \\varepsilon)x_1 + x_3 - x_5 - v = 0 \\\\\n",
    "    &(2 + \\varepsilon)x_1 - 2x_2 + x_3 - x_6 - v = 0 \\\\\n",
    "    &x_1 + x_2 + x_3 = 1 \\\\\n",
    "    &x_1, \\dots, x_6, v \\geq 0\n",
    "\\end{align}$\n"
   ]
  },
  {
   "cell_type": "code",
   "execution_count": null,
   "id": "2600efcd",
   "metadata": {},
   "outputs": [],
   "source": [
    "# creating arrays for the problem & epsilon values\n",
    "ep = ...\n",
    "c = c = np.array([0.0, 0.0, 0.0, 0.0, 0.0, 0.0, -1.0])\n",
    "A = np.array([[3.0 + ep, 2.0, -2.0, -1.0, 0.0, 0.0, -1.0],\n",
    "              [-1.0 + ep, 0.0, 1.0, 0.0, -1.0, 0.0, -1.0],\n",
    "              [2.0 + ep, -2.0, 1.0, 0.0, 0.0, -1.0, -1.0],\n",
    "              [1.0, 1.0, 1.0, 0.0, 0.0, 0.0, 0.0]])\n",
    "b = np.array([0.0, 0.0, 0.0, 1.0])\n"
   ]
  }
 ],
 "metadata": {
  "kernelspec": {
   "display_name": "Python 3",
   "language": "python",
   "name": "python3"
  },
  "language_info": {
   "codemirror_mode": {
    "name": "ipython",
    "version": 3
   },
   "file_extension": ".py",
   "mimetype": "text/x-python",
   "name": "python",
   "nbconvert_exporter": "python",
   "pygments_lexer": "ipython3",
   "version": "3.12.7"
  }
 },
 "nbformat": 4,
 "nbformat_minor": 5
}
